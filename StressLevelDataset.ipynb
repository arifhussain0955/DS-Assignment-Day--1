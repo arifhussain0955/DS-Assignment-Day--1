{
 "cells": [
  {
   "cell_type": "code",
   "execution_count": 7,
   "id": "8392ea01-c1c2-4878-b837-64247858f6ea",
   "metadata": {},
   "outputs": [
    {
     "name": "stdout",
     "output_type": "stream",
     "text": [
      "Accuracy: 86.82%\n"
     ]
    }
   ],
   "source": [
    "# Import necessary libraries\n",
    "import pandas as pd\n",
    "import numpy as np\n",
    "from sklearn.model_selection import train_test_split\n",
    "from sklearn.metrics import accuracy_score\n",
    "import xgboost as xgb\n",
    "\n",
    "\n",
    "data_path = r\"C:\\Users\\avina\\Downloads\\archive (2)\\StressLevelDataset.csv\"\n",
    "data = pd.read_csv(data_path)\n",
    "\n",
    "X = data.drop(columns=['stress_level'])\n",
    "y = data['stress_level']\n",
    "\n",
    "X_train, X_test, y_train, y_test = train_test_split(X, y, test_size=0.2, random_state=42)\n",
    "\n",
    "\n",
    "xgb_classifier = xgb.XGBClassifier()\n",
    "\n",
    "\n",
    "xgb_classifier.fit(X_train, y_train)\n",
    "\n",
    "\n",
    "y_pred = xgb_classifier.predict(X_test)\n",
    "\n",
    "\n",
    "accuracy = accuracy_score(y_test, y_pred)\n",
    "print(f\"Accuracy: {accuracy * 100:.2f}%\")\n",
    "\n"
   ]
  },
  {
   "cell_type": "code",
   "execution_count": null,
   "id": "43e593e0-6a84-4922-9387-a985f6373628",
   "metadata": {},
   "outputs": [],
   "source": []
  }
 ],
 "metadata": {
  "kernelspec": {
   "display_name": "Python 3 (ipykernel)",
   "language": "python",
   "name": "python3"
  },
  "language_info": {
   "codemirror_mode": {
    "name": "ipython",
    "version": 3
   },
   "file_extension": ".py",
   "mimetype": "text/x-python",
   "name": "python",
   "nbconvert_exporter": "python",
   "pygments_lexer": "ipython3",
   "version": "3.9.18"
  }
 },
 "nbformat": 4,
 "nbformat_minor": 5
}
